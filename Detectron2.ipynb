{
  "nbformat": 4,
  "nbformat_minor": 0,
  "metadata": {
    "colab": {
      "name": "Detectron2.ipynb",
      "provenance": [],
      "collapsed_sections": [],
      "mount_file_id": "1TwtPsMK7altbfMoR85bn3TMbMNq6okGG",
      "authorship_tag": "ABX9TyOa/sTXVKm4dWVP5Exjz4GO",
      "include_colab_link": true
    },
    "kernelspec": {
      "name": "python3",
      "display_name": "Python 3"
    },
    "language_info": {
      "name": "python"
    },
    "accelerator": "GPU"
  },
  "cells": [
    {
      "cell_type": "markdown",
      "metadata": {
        "id": "view-in-github",
        "colab_type": "text"
      },
      "source": [
        "<a href=\"https://colab.research.google.com/github/Sagar-modelling/Detectron2/blob/main/Detectron2.ipynb\" target=\"_parent\"><img src=\"https://colab.research.google.com/assets/colab-badge.svg\" alt=\"Open In Colab\"/></a>"
      ]
    },
    {
      "cell_type": "code",
      "source": [
        "!pip install -q condacolab\n",
        "import condacolab\n",
        "condacolab.install()"
      ],
      "metadata": {
        "colab": {
          "base_uri": "https://localhost:8080/"
        },
        "id": "i8YJMl3e-Kqf",
        "outputId": "6a014740-4fc0-4fff-bb36-c3c8fd78221e"
      },
      "execution_count": 1,
      "outputs": [
        {
          "output_type": "stream",
          "name": "stdout",
          "text": [
            "⏬ Downloading https://github.com/jaimergp/miniforge/releases/latest/download/Mambaforge-colab-Linux-x86_64.sh...\n",
            "📦 Installing...\n",
            "📌 Adjusting configuration...\n",
            "🩹 Patching environment...\n",
            "⏲ Done in 0:00:29\n",
            "🔁 Restarting kernel...\n"
          ]
        }
      ]
    },
    {
      "cell_type": "code",
      "source": [
        "!conda --version"
      ],
      "metadata": {
        "colab": {
          "base_uri": "https://localhost:8080/"
        },
        "id": "KVkeoIxf-hqW",
        "outputId": "4c0041e6-6a28-4b07-ee91-a899c988d0ee"
      },
      "execution_count": null,
      "outputs": [
        {
          "output_type": "stream",
          "name": "stdout",
          "text": [
            "conda 4.9.2\n"
          ]
        }
      ]
    },
    {
      "cell_type": "code",
      "source": [
        "#!conda install pytorch==1.10 torchvision==0.9.1 cudatoolkit=11.1 -c pytorch\n",
        "\n",
        "!conda install pytorch==1.7 torchvision cudatoolkit=10.1 -c pytorch"
      ],
      "metadata": {
        "colab": {
          "base_uri": "https://localhost:8080/"
        },
        "id": "6PQE50t69wp8",
        "outputId": "a7dfb052-09f8-435c-dd29-426775cf04e8"
      },
      "execution_count": 1,
      "outputs": [
        {
          "output_type": "stream",
          "name": "stdout",
          "text": [
            "Collecting package metadata (current_repodata.json): - \b\b\\ \b\b| \b\b/ \b\b- \b\b\\ \b\b| \b\b/ \b\b- \b\b\\ \b\b| \b\b/ \b\b- \b\b\\ \b\b| \b\b/ \b\b- \b\b\\ \b\b| \b\b/ \b\b- \b\b\\ \b\b| \b\b/ \b\b- \b\b\\ \b\b| \b\b/ \b\b- \b\b\\ \b\b| \b\b/ \b\b- \b\b\\ \b\b| \b\b/ \b\b- \b\b\\ \b\b| \b\b/ \b\b- \b\b\\ \b\b| \b\b/ \b\b- \b\b\\ \b\b| \b\b/ \b\b- \b\b\\ \b\b| \b\b/ \b\b- \b\b\\ \b\b| \b\b/ \b\b- \b\b\\ \b\b| \b\b/ \b\b- \b\b\\ \b\b| \b\b/ \b\b- \b\b\\ \b\b| \b\b/ \b\b- \b\b\\ \b\b| \b\b/ \b\b- \b\b\\ \b\b| \b\b/ \b\b- \b\b\\ \b\b| \b\b/ \b\b- \b\b\\ \b\b| \b\b/ \b\b- \b\b\\ \b\b| \b\b/ \b\b- \b\b\\ \b\b| \b\b/ \b\b- \b\b\\ \b\b| \b\b/ \b\b- \b\b\\ \b\b| \b\bdone\n",
            "Solving environment: - \b\b\\ \b\b| \b\b/ \b\b- \b\b\\ \b\b| \b\b/ \b\b- \b\b\\ \b\b| \b\b/ \b\b- \b\b\\ \b\b| \b\b/ \b\b- \b\b\\ \b\b| \b\b/ \b\b- \b\b\\ \b\b| \b\b/ \b\b- \b\b\\ \b\b| \b\b/ \b\b- \b\b\\ \b\b| \b\b/ \b\b- \b\b\\ \b\b| \b\b/ \b\b- \b\b\\ \b\b| \b\b/ \b\b- \b\b\\ \b\b| \b\b/ \b\b- \b\b\\ \b\b| \b\b/ \b\b- \b\b\\ \b\b| \b\b/ \b\b- \b\b\\ \b\b| \b\b/ \b\b- \b\b\\ \b\b| \b\b/ \b\b- WARNING conda.core.solve:_add_specs(611): pinned spec cudatoolkit=11.1 conflicts with explicit specs.  Overriding pinned spec.\n",
            "\b\b\\ \b\b| \b\b/ \b\b- \b\b\\ \b\b| \b\b/ \b\b- \b\b\\ \b\b| \b\b/ \b\b- \b\bdone\n",
            "\n",
            "## Package Plan ##\n",
            "\n",
            "  environment location: /usr/local\n",
            "\n",
            "  added / updated specs:\n",
            "    - cudatoolkit=10.1\n",
            "    - pytorch==1.7\n",
            "    - torchvision\n",
            "\n",
            "\n",
            "The following packages will be downloaded:\n",
            "\n",
            "    package                    |            build\n",
            "    ---------------------------|-----------------\n",
            "    _openmp_mutex-4.5          |       2_kmp_llvm           6 KB  conda-forge\n",
            "    blas-2.106                 |              mkl          12 KB  conda-forge\n",
            "    ca-certificates-2021.10.8  |       ha878542_0         139 KB  conda-forge\n",
            "    certifi-2021.10.8          |   py37h89c1867_2         145 KB  conda-forge\n",
            "    conda-4.12.0               |   py37h89c1867_0         1.0 MB  conda-forge\n",
            "    cudatoolkit-10.1.243       |       h036e899_8       427.5 MB  conda-forge\n",
            "    freetype-2.10.4            |       h0708190_1         890 KB  conda-forge\n",
            "    jpeg-9e                    |       h166bdaf_1         268 KB  conda-forge\n",
            "    libblas-3.9.0              |            6_mkl          11 KB  conda-forge\n",
            "    libcblas-3.9.0             |            6_mkl          11 KB  conda-forge\n",
            "    libgcc-ng-11.2.0           |      h1d223b6_16         902 KB  conda-forge\n",
            "    libgfortran-ng-11.2.0      |      h69a702a_16          23 KB  conda-forge\n",
            "    libgfortran5-11.2.0        |      h5c6108e_16         1.7 MB  conda-forge\n",
            "    liblapack-3.9.0            |            6_mkl          11 KB  conda-forge\n",
            "    liblapacke-3.9.0           |            6_mkl          11 KB  conda-forge\n",
            "    libpng-1.6.37              |       h21135ba_2         306 KB  conda-forge\n",
            "    libtiff-4.0.10             |    hc3755c2_1005         602 KB  conda-forge\n",
            "    libuv-1.43.0               |       h7f98852_0         1.0 MB  conda-forge\n",
            "    libzlib-1.2.11             |    h166bdaf_1014          60 KB  conda-forge\n",
            "    llvm-openmp-14.0.3         |       he0ac6c6_0         5.8 MB  conda-forge\n",
            "    mkl-2020.4                 |     h726a3e6_304       215.6 MB  conda-forge\n",
            "    ninja-1.10.2               |       h4bd325d_0         2.4 MB  conda-forge\n",
            "    numpy-1.20.3               |   py37h3e96413_2         5.7 MB  conda-forge\n",
            "    olefile-0.46               |     pyh9f0ad1d_1          32 KB  conda-forge\n",
            "    openssl-1.1.1n             |       h166bdaf_0         2.1 MB  conda-forge\n",
            "    pillow-6.2.1               |   py37h6b7be26_0         637 KB  conda-forge\n",
            "    python_abi-3.7             |          2_cp37m           4 KB  conda-forge\n",
            "    pytorch-1.7.0              |py3.7_cuda10.1.243_cudnn7.6.3_0       552.6 MB  pytorch\n",
            "    torchvision-0.8.1          |       py37_cu101        17.8 MB  pytorch\n",
            "    typing_extensions-4.2.0    |     pyha770c72_1          27 KB  conda-forge\n",
            "    zlib-1.2.11                |    h166bdaf_1014          88 KB  conda-forge\n",
            "    ------------------------------------------------------------\n",
            "                                           Total:        1.21 GB\n",
            "\n",
            "The following NEW packages will be INSTALLED:\n",
            "\n",
            "  blas               conda-forge/linux-64::blas-2.106-mkl\n",
            "  cudatoolkit        conda-forge/linux-64::cudatoolkit-10.1.243-h036e899_8\n",
            "  freetype           conda-forge/linux-64::freetype-2.10.4-h0708190_1\n",
            "  jpeg               conda-forge/linux-64::jpeg-9e-h166bdaf_1\n",
            "  libblas            conda-forge/linux-64::libblas-3.9.0-6_mkl\n",
            "  libcblas           conda-forge/linux-64::libcblas-3.9.0-6_mkl\n",
            "  libgfortran-ng     conda-forge/linux-64::libgfortran-ng-11.2.0-h69a702a_16\n",
            "  libgfortran5       conda-forge/linux-64::libgfortran5-11.2.0-h5c6108e_16\n",
            "  liblapack          conda-forge/linux-64::liblapack-3.9.0-6_mkl\n",
            "  liblapacke         conda-forge/linux-64::liblapacke-3.9.0-6_mkl\n",
            "  libpng             conda-forge/linux-64::libpng-1.6.37-h21135ba_2\n",
            "  libtiff            conda-forge/linux-64::libtiff-4.0.10-hc3755c2_1005\n",
            "  libuv              conda-forge/linux-64::libuv-1.43.0-h7f98852_0\n",
            "  libzlib            conda-forge/linux-64::libzlib-1.2.11-h166bdaf_1014\n",
            "  llvm-openmp        conda-forge/linux-64::llvm-openmp-14.0.3-he0ac6c6_0\n",
            "  mkl                conda-forge/linux-64::mkl-2020.4-h726a3e6_304\n",
            "  ninja              conda-forge/linux-64::ninja-1.10.2-h4bd325d_0\n",
            "  numpy              conda-forge/linux-64::numpy-1.20.3-py37h3e96413_2\n",
            "  olefile            conda-forge/noarch::olefile-0.46-pyh9f0ad1d_1\n",
            "  pillow             conda-forge/linux-64::pillow-6.2.1-py37h6b7be26_0\n",
            "  pytorch            pytorch/linux-64::pytorch-1.7.0-py3.7_cuda10.1.243_cudnn7.6.3_0\n",
            "  torchvision        pytorch/linux-64::torchvision-0.8.1-py37_cu101\n",
            "  typing_extensions  conda-forge/noarch::typing_extensions-4.2.0-pyha770c72_1\n",
            "\n",
            "The following packages will be REMOVED:\n",
            "\n",
            "  libgomp-9.3.0-h2828fa1_18\n",
            "\n",
            "The following packages will be UPDATED:\n",
            "\n",
            "  ca-certificates                      2020.12.5-ha878542_0 --> 2021.10.8-ha878542_0\n",
            "  certifi                          2020.12.5-py37h89c1867_1 --> 2021.10.8-py37h89c1867_2\n",
            "  conda                                4.9.2-py37h89c1867_0 --> 4.12.0-py37h89c1867_0\n",
            "  libgcc-ng                               9.3.0-h2828fa1_18 --> 11.2.0-h1d223b6_16\n",
            "  openssl                                 1.1.1j-h7f98852_0 --> 1.1.1n-h166bdaf_0\n",
            "  python_abi                                    3.7-1_cp37m --> 3.7-2_cp37m\n",
            "  zlib                                 1.2.11-h516909a_1010 --> 1.2.11-h166bdaf_1014\n",
            "\n",
            "The following packages will be DOWNGRADED:\n",
            "\n",
            "  _openmp_mutex                                   4.5-1_gnu --> 4.5-2_kmp_llvm\n",
            "\n",
            "\n",
            "\n",
            "Downloading and Extracting Packages\n",
            "_openmp_mutex-4.5    | 6 KB      | : 100% 1.0/1 [00:00<00:00, 11.25it/s]\n",
            "libuv-1.43.0         | 1.0 MB    | : 100% 1.0/1 [00:00<00:00,  4.45it/s]\n",
            "zlib-1.2.11          | 88 KB     | : 100% 1.0/1 [00:00<00:00, 22.17it/s]\n",
            "python_abi-3.7       | 4 KB      | : 100% 1.0/1 [00:00<00:00, 22.64it/s]\n",
            "cudatoolkit-10.1.243 | 427.5 MB  | : 100% 1.0/1 [00:56<00:00, 56.06s/it]              \n",
            "blas-2.106           | 12 KB     | : 100% 1.0/1 [00:00<00:00, 14.70it/s]\n",
            "llvm-openmp-14.0.3   | 5.8 MB    | : 100% 1.0/1 [00:00<00:00,  1.15it/s]\n",
            "libblas-3.9.0        | 11 KB     | : 100% 1.0/1 [00:00<00:00, 16.63it/s]\n",
            "mkl-2020.4           | 215.6 MB  | : 100% 1.0/1 [00:38<00:00, 38.66s/it]               \n",
            "libgfortran-ng-11.2. | 23 KB     | : 100% 1.0/1 [00:00<00:00, 19.37it/s]\n",
            "typing_extensions-4. | 27 KB     | : 100% 1.0/1 [00:00<00:00, 28.46it/s]\n",
            "openssl-1.1.1n       | 2.1 MB    | : 100% 1.0/1 [00:00<00:00,  2.78it/s]\n",
            "libgcc-ng-11.2.0     | 902 KB    | : 100% 1.0/1 [00:00<00:00,  5.78it/s]\n",
            "libcblas-3.9.0       | 11 KB     | : 100% 1.0/1 [00:00<00:00, 15.60it/s]\n",
            "ca-certificates-2021 | 139 KB    | : 100% 1.0/1 [00:00<00:00, 19.30it/s]\n",
            "libpng-1.6.37        | 306 KB    | : 100% 1.0/1 [00:00<00:00, 11.03it/s]\n",
            "pytorch-1.7.0        | 552.6 MB  | : 100% 1.0/1 [01:22<00:00, 82.46s/it]               \n",
            "torchvision-0.8.1    | 17.8 MB   | : 100% 1.0/1 [00:03<00:00,  3.19s/it] \n",
            "libgfortran5-11.2.0  | 1.7 MB    | : 100% 1.0/1 [00:00<00:00,  2.73it/s]\n",
            "olefile-0.46         | 32 KB     | : 100% 1.0/1 [00:00<00:00, 22.89it/s]\n",
            "libtiff-4.0.10       | 602 KB    | : 100% 1.0/1 [00:00<00:00,  5.87it/s]\n",
            "jpeg-9e              | 268 KB    | : 100% 1.0/1 [00:00<00:00, 11.84it/s]\n",
            "ninja-1.10.2         | 2.4 MB    | : 100% 1.0/1 [00:00<00:00,  2.39it/s]\n",
            "conda-4.12.0         | 1.0 MB    | : 100% 1.0/1 [00:00<00:00,  3.90it/s]\n",
            "liblapacke-3.9.0     | 11 KB     | : 100% 1.0/1 [00:00<00:00, 15.60it/s]\n",
            "freetype-2.10.4      | 890 KB    | : 100% 1.0/1 [00:00<00:00,  5.58it/s]\n",
            "pillow-6.2.1         | 637 KB    | : 100% 1.0/1 [00:00<00:00,  5.71it/s]\n",
            "libzlib-1.2.11       | 60 KB     | : 100% 1.0/1 [00:00<00:00, 24.99it/s]\n",
            "numpy-1.20.3         | 5.7 MB    | : 100% 1.0/1 [00:01<00:00,  1.22s/it]               \n",
            "certifi-2021.10.8    | 145 KB    | : 100% 1.0/1 [00:00<00:00, 17.69it/s]\n",
            "liblapack-3.9.0      | 11 KB     | : 100% 1.0/1 [00:00<00:00,  6.88it/s]\n",
            "Preparing transaction: | \b\b/ \b\b- \b\b\\ \b\bdone\n",
            "Verifying transaction: / \b\b- \b\b\\ \b\b| \b\b/ \b\b- \b\b\\ \b\b| \b\b/ \b\b- \b\b\\ \b\bdone\n",
            "Executing transaction: / \b\b- \b\b\\ \b\b| \b\b/ \b\b- \b\b\\ \b\b| \b\b/ \b\b- \b\b\\ \b\b| \b\b/ \b\b- \b\b\\ \b\b| \b\b/ \b\b- \b\b\\ \b\b| \b\b/ \b\b- \b\b\\ \b\b| \b\b/ \b\b- \b\b\\ \b\b| \b\b/ \b\b- \b\b\\ \b\b| \b\b/ \b\b- \b\b\\ \b\b| \b\b/ \b\b- \b\b\\ \b\b| \b\b/ \b\b- \b\b\\ \b\b| \b\b/ \b\b- \b\b\\ \b\b| \b\b/ \b\b- \b\b\\ \b\b| \b\b/ \b\b- \b\b\\ \b\b| \b\b/ \b\b- \b\b\\ \b\b| By downloading and using the CUDA Toolkit conda packages, you accept the terms and conditions of the CUDA End User License Agreement (EULA): https://docs.nvidia.com/cuda/eula/index.html\n",
            "\n",
            "\b\b/ \b\b- \b\b\\ \b\b| \b\b/ \b\b- \b\b\\ \b\bdone\n"
          ]
        }
      ]
    },
    {
      "cell_type": "code",
      "source": [
        "!pip install cython"
      ],
      "metadata": {
        "colab": {
          "base_uri": "https://localhost:8080/"
        },
        "id": "YM2GXxiq_qra",
        "outputId": "d16bb303-6fd4-41d8-c2dd-b8f9581679d3"
      },
      "execution_count": 2,
      "outputs": [
        {
          "output_type": "stream",
          "name": "stdout",
          "text": [
            "Collecting cython\n",
            "  Downloading Cython-0.29.28-cp37-cp37m-manylinux_2_17_x86_64.manylinux2014_x86_64.manylinux_2_24_x86_64.whl (1.9 MB)\n",
            "\u001b[K     |████████████████████████████████| 1.9 MB 5.3 MB/s \n",
            "\u001b[?25hInstalling collected packages: cython\n",
            "Successfully installed cython-0.29.28\n"
          ]
        }
      ]
    },
    {
      "cell_type": "code",
      "source": [
        "!nvcc --version"
      ],
      "metadata": {
        "colab": {
          "base_uri": "https://localhost:8080/"
        },
        "id": "ZEX0B4w9NrMb",
        "outputId": "59662258-0ccb-4c35-a96f-50659e0d3571"
      },
      "execution_count": 4,
      "outputs": [
        {
          "output_type": "stream",
          "name": "stdout",
          "text": [
            "nvcc: NVIDIA (R) Cuda compiler driver\n",
            "Copyright (c) 2005-2020 NVIDIA Corporation\n",
            "Built on Mon_Oct_12_20:09:46_PDT_2020\n",
            "Cuda compilation tools, release 11.1, V11.1.105\n",
            "Build cuda_11.1.TC455_06.29190527_0\n"
          ]
        }
      ]
    },
    {
      "cell_type": "code",
      "source": [
        "!nvidia-smi"
      ],
      "metadata": {
        "colab": {
          "base_uri": "https://localhost:8080/"
        },
        "id": "HDUaV1JD_uaq",
        "outputId": "c3800b74-210c-4a33-8e38-8fcc5b09dbd0"
      },
      "execution_count": 5,
      "outputs": [
        {
          "output_type": "stream",
          "name": "stdout",
          "text": [
            "Mon May  2 05:21:06 2022       \n",
            "+-----------------------------------------------------------------------------+\n",
            "| NVIDIA-SMI 460.32.03    Driver Version: 460.32.03    CUDA Version: 11.2     |\n",
            "|-------------------------------+----------------------+----------------------+\n",
            "| GPU  Name        Persistence-M| Bus-Id        Disp.A | Volatile Uncorr. ECC |\n",
            "| Fan  Temp  Perf  Pwr:Usage/Cap|         Memory-Usage | GPU-Util  Compute M. |\n",
            "|                               |                      |               MIG M. |\n",
            "|===============================+======================+======================|\n",
            "|   0  Tesla K80           Off  | 00000000:00:04.0 Off |                    0 |\n",
            "| N/A   29C    P8    28W / 149W |      0MiB / 11441MiB |      0%      Default |\n",
            "|                               |                      |                  N/A |\n",
            "+-------------------------------+----------------------+----------------------+\n",
            "                                                                               \n",
            "+-----------------------------------------------------------------------------+\n",
            "| Processes:                                                                  |\n",
            "|  GPU   GI   CI        PID   Type   Process name                  GPU Memory |\n",
            "|        ID   ID                                                   Usage      |\n",
            "|=============================================================================|\n",
            "|  No running processes found                                                 |\n",
            "+-----------------------------------------------------------------------------+\n"
          ]
        }
      ]
    },
    {
      "cell_type": "code",
      "source": [
        "!pip install \"git+https://github.com/philferriere/cocoapi.git#egg=pycocotools&subdirectory=PythonAPI\""
      ],
      "metadata": {
        "colab": {
          "base_uri": "https://localhost:8080/"
        },
        "id": "PcxbfiKpBJ2p",
        "outputId": "b8d58884-5d8a-4833-a672-dcc56289bd89"
      },
      "execution_count": 2,
      "outputs": [
        {
          "output_type": "stream",
          "name": "stdout",
          "text": [
            "Collecting pycocotools\n",
            "  Cloning https://github.com/philferriere/cocoapi.git to /tmp/pip-install-q6q7_ckm/pycocotools_fa2f2f8b455e4190a2d145115c4d851b\n",
            "  Running command git clone -q https://github.com/philferriere/cocoapi.git /tmp/pip-install-q6q7_ckm/pycocotools_fa2f2f8b455e4190a2d145115c4d851b\n"
          ]
        }
      ]
    },
    {
      "cell_type": "code",
      "source": [
        "ROOT = '/content/drive/MyDrive/Detectron2'\n",
        "import os\n",
        "os.chdir(ROOT)"
      ],
      "metadata": {
        "id": "8mQyV5qyOXqt"
      },
      "execution_count": 7,
      "outputs": []
    },
    {
      "cell_type": "code",
      "source": [
        "!git clone https://github.com/augmentedstartups/detectron2"
      ],
      "metadata": {
        "colab": {
          "base_uri": "https://localhost:8080/"
        },
        "id": "6TnekcXSBTBf",
        "outputId": "07d79e07-b6f1-44b6-8bf6-f5ac2a379174"
      },
      "execution_count": 9,
      "outputs": [
        {
          "output_type": "stream",
          "name": "stdout",
          "text": [
            "Cloning into 'detectron2'...\n",
            "remote: Enumerating objects: 7016, done.\u001b[K\n",
            "remote: Total 7016 (delta 0), reused 0 (delta 0), pack-reused 7016\u001b[K\n",
            "Receiving objects: 100% (7016/7016), 17.33 MiB | 9.36 MiB/s, done.\n",
            "Resolving deltas: 100% (4972/4972), done.\n",
            "Checking out files: 100% (578/578), done.\n"
          ]
        }
      ]
    },
    {
      "cell_type": "code",
      "source": [
        "%cd /content/drive/MyDrive/Detectron2/detectron2"
      ],
      "metadata": {
        "colab": {
          "base_uri": "https://localhost:8080/"
        },
        "id": "r2ho2q9hBdFx",
        "outputId": "3e2668f0-fc80-48ca-af1a-cb688cb32e76"
      },
      "execution_count": 3,
      "outputs": [
        {
          "output_type": "stream",
          "name": "stdout",
          "text": [
            "/content/drive/MyDrive/Detectron2/detectron2\n"
          ]
        }
      ]
    },
    {
      "cell_type": "code",
      "source": [
        "!pip install -e ."
      ],
      "metadata": {
        "colab": {
          "base_uri": "https://localhost:8080/"
        },
        "id": "JmsMP6hYBoID",
        "outputId": "afec83b4-b717-46db-aa3f-83b9710d7616"
      },
      "execution_count": 4,
      "outputs": [
        {
          "output_type": "stream",
          "name": "stdout",
          "text": [
            "Obtaining file:///content/drive/MyDrive/Detectron2/detectron2\n",
            "Requirement already satisfied: termcolor>=1.1 in /usr/local/lib/python3.7/site-packages (from detectron2==0.2.1) (1.1.0)\n",
            "Requirement already satisfied: Pillow>=7.1 in /usr/local/lib/python3.7/site-packages (from detectron2==0.2.1) (9.1.0)\n",
            "Requirement already satisfied: yacs>=0.1.6 in /usr/local/lib/python3.7/site-packages (from detectron2==0.2.1) (0.1.8)\n",
            "Requirement already satisfied: tabulate in /usr/local/lib/python3.7/site-packages (from detectron2==0.2.1) (0.8.9)\n",
            "Requirement already satisfied: cloudpickle in /usr/local/lib/python3.7/site-packages (from detectron2==0.2.1) (2.0.0)\n",
            "Requirement already satisfied: matplotlib in /usr/local/lib/python3.7/site-packages (from detectron2==0.2.1) (3.5.1)\n",
            "Requirement already satisfied: mock in /usr/local/lib/python3.7/site-packages (from detectron2==0.2.1) (4.0.3)\n",
            "Requirement already satisfied: tqdm>4.29.0 in /usr/local/lib/python3.7/site-packages (from detectron2==0.2.1) (4.59.0)\n",
            "Requirement already satisfied: tensorboard in /usr/local/lib/python3.7/site-packages (from detectron2==0.2.1) (2.9.0)\n",
            "Requirement already satisfied: fvcore>=0.1.1 in /usr/local/lib/python3.7/site-packages (from detectron2==0.2.1) (0.1.5.post20220414)\n",
            "Collecting pycocotools>=2.0.2\n",
            "  Using cached pycocotools-2.0.4-cp37-cp37m-linux_x86_64.whl\n",
            "Requirement already satisfied: future in /usr/local/lib/python3.7/site-packages (from detectron2==0.2.1) (0.18.2)\n",
            "Requirement already satisfied: pydot in /usr/local/lib/python3.7/site-packages (from detectron2==0.2.1) (1.4.2)\n",
            "Requirement already satisfied: iopath>=0.1.7 in /usr/local/lib/python3.7/site-packages (from fvcore>=0.1.1->detectron2==0.2.1) (0.1.9)\n",
            "Requirement already satisfied: numpy in /usr/local/lib/python3.7/site-packages (from fvcore>=0.1.1->detectron2==0.2.1) (1.20.3)\n",
            "Requirement already satisfied: pyyaml>=5.1 in /usr/local/lib/python3.7/site-packages (from fvcore>=0.1.1->detectron2==0.2.1) (6.0)\n",
            "Requirement already satisfied: portalocker in /usr/local/lib/python3.7/site-packages (from iopath>=0.1.7->fvcore>=0.1.1->detectron2==0.2.1) (2.4.0)\n",
            "Requirement already satisfied: pyparsing>=2.2.1 in /usr/local/lib/python3.7/site-packages (from matplotlib->detectron2==0.2.1) (3.0.8)\n",
            "Requirement already satisfied: packaging>=20.0 in /usr/local/lib/python3.7/site-packages (from matplotlib->detectron2==0.2.1) (21.3)\n",
            "Requirement already satisfied: cycler>=0.10 in /usr/local/lib/python3.7/site-packages (from matplotlib->detectron2==0.2.1) (0.11.0)\n",
            "Requirement already satisfied: fonttools>=4.22.0 in /usr/local/lib/python3.7/site-packages (from matplotlib->detectron2==0.2.1) (4.33.3)\n",
            "Requirement already satisfied: kiwisolver>=1.0.1 in /usr/local/lib/python3.7/site-packages (from matplotlib->detectron2==0.2.1) (1.4.2)\n",
            "Requirement already satisfied: python-dateutil>=2.7 in /usr/local/lib/python3.7/site-packages (from matplotlib->detectron2==0.2.1) (2.8.2)\n",
            "Requirement already satisfied: typing-extensions in /usr/local/lib/python3.7/site-packages (from kiwisolver>=1.0.1->matplotlib->detectron2==0.2.1) (4.2.0)\n",
            "Requirement already satisfied: six>=1.5 in /usr/local/lib/python3.7/site-packages (from python-dateutil>=2.7->matplotlib->detectron2==0.2.1) (1.15.0)\n",
            "Requirement already satisfied: tensorboard-data-server<0.7.0,>=0.6.0 in /usr/local/lib/python3.7/site-packages (from tensorboard->detectron2==0.2.1) (0.6.1)\n",
            "Requirement already satisfied: protobuf>=3.9.2 in /usr/local/lib/python3.7/site-packages (from tensorboard->detectron2==0.2.1) (3.20.1)\n",
            "Requirement already satisfied: wheel>=0.26 in /usr/local/lib/python3.7/site-packages (from tensorboard->detectron2==0.2.1) (0.36.2)\n",
            "Requirement already satisfied: requests<3,>=2.21.0 in /usr/local/lib/python3.7/site-packages (from tensorboard->detectron2==0.2.1) (2.25.1)\n",
            "Requirement already satisfied: werkzeug>=1.0.1 in /usr/local/lib/python3.7/site-packages (from tensorboard->detectron2==0.2.1) (2.1.2)\n",
            "Requirement already satisfied: grpcio>=1.24.3 in /usr/local/lib/python3.7/site-packages (from tensorboard->detectron2==0.2.1) (1.44.0)\n",
            "Requirement already satisfied: markdown>=2.6.8 in /usr/local/lib/python3.7/site-packages (from tensorboard->detectron2==0.2.1) (3.3.6)\n",
            "Requirement already satisfied: absl-py>=0.4 in /usr/local/lib/python3.7/site-packages (from tensorboard->detectron2==0.2.1) (1.0.0)\n",
            "Requirement already satisfied: tensorboard-plugin-wit>=1.6.0 in /usr/local/lib/python3.7/site-packages (from tensorboard->detectron2==0.2.1) (1.8.1)\n",
            "Requirement already satisfied: google-auth-oauthlib<0.5,>=0.4.1 in /usr/local/lib/python3.7/site-packages (from tensorboard->detectron2==0.2.1) (0.4.6)\n",
            "Requirement already satisfied: setuptools>=41.0.0 in /usr/local/lib/python3.7/site-packages (from tensorboard->detectron2==0.2.1) (49.6.0.post20210108)\n",
            "Requirement already satisfied: google-auth<3,>=1.6.3 in /usr/local/lib/python3.7/site-packages (from tensorboard->detectron2==0.2.1) (2.6.6)\n",
            "Requirement already satisfied: cachetools<6.0,>=2.0.0 in /usr/local/lib/python3.7/site-packages (from google-auth<3,>=1.6.3->tensorboard->detectron2==0.2.1) (5.0.0)\n",
            "Requirement already satisfied: pyasn1-modules>=0.2.1 in /usr/local/lib/python3.7/site-packages (from google-auth<3,>=1.6.3->tensorboard->detectron2==0.2.1) (0.2.8)\n",
            "Requirement already satisfied: rsa<5,>=3.1.4 in /usr/local/lib/python3.7/site-packages (from google-auth<3,>=1.6.3->tensorboard->detectron2==0.2.1) (4.8)\n",
            "Requirement already satisfied: requests-oauthlib>=0.7.0 in /usr/local/lib/python3.7/site-packages (from google-auth-oauthlib<0.5,>=0.4.1->tensorboard->detectron2==0.2.1) (1.3.1)\n",
            "Requirement already satisfied: importlib-metadata>=4.4 in /usr/local/lib/python3.7/site-packages (from markdown>=2.6.8->tensorboard->detectron2==0.2.1) (4.11.3)\n",
            "Requirement already satisfied: zipp>=0.5 in /usr/local/lib/python3.7/site-packages (from importlib-metadata>=4.4->markdown>=2.6.8->tensorboard->detectron2==0.2.1) (3.8.0)\n",
            "Requirement already satisfied: pyasn1<0.5.0,>=0.4.6 in /usr/local/lib/python3.7/site-packages (from pyasn1-modules>=0.2.1->google-auth<3,>=1.6.3->tensorboard->detectron2==0.2.1) (0.4.8)\n",
            "Requirement already satisfied: certifi>=2017.4.17 in /usr/local/lib/python3.7/site-packages (from requests<3,>=2.21.0->tensorboard->detectron2==0.2.1) (2021.10.8)\n",
            "Requirement already satisfied: idna<3,>=2.5 in /usr/local/lib/python3.7/site-packages (from requests<3,>=2.21.0->tensorboard->detectron2==0.2.1) (2.10)\n",
            "Requirement already satisfied: chardet<5,>=3.0.2 in /usr/local/lib/python3.7/site-packages (from requests<3,>=2.21.0->tensorboard->detectron2==0.2.1) (4.0.0)\n",
            "Requirement already satisfied: urllib3<1.27,>=1.21.1 in /usr/local/lib/python3.7/site-packages (from requests<3,>=2.21.0->tensorboard->detectron2==0.2.1) (1.26.3)\n",
            "Requirement already satisfied: oauthlib>=3.0.0 in /usr/local/lib/python3.7/site-packages (from requests-oauthlib>=0.7.0->google-auth-oauthlib<0.5,>=0.4.1->tensorboard->detectron2==0.2.1) (3.2.0)\n",
            "Installing collected packages: pycocotools, detectron2\n",
            "  Attempting uninstall: pycocotools\n",
            "    Found existing installation: pycocotools 2.0\n",
            "    Uninstalling pycocotools-2.0:\n",
            "      Successfully uninstalled pycocotools-2.0\n",
            "  Attempting uninstall: detectron2\n",
            "    Found existing installation: detectron2 0.2.1\n",
            "    Uninstalling detectron2-0.2.1:\n",
            "      Successfully uninstalled detectron2-0.2.1\n",
            "  Running setup.py develop for detectron2\n",
            "Successfully installed detectron2 pycocotools-2.0.4\n"
          ]
        }
      ]
    },
    {
      "cell_type": "code",
      "source": [
        "!pip install opencv-python"
      ],
      "metadata": {
        "colab": {
          "base_uri": "https://localhost:8080/"
        },
        "id": "rewsW9DOBvS0",
        "outputId": "c915b79b-d1b2-41db-f793-6ff5d2f61995"
      },
      "execution_count": 5,
      "outputs": [
        {
          "output_type": "stream",
          "name": "stdout",
          "text": [
            "Collecting opencv-python\n",
            "  Downloading opencv_python-4.5.5.64-cp36-abi3-manylinux_2_17_x86_64.manylinux2014_x86_64.whl (60.5 MB)\n",
            "\u001b[K     |████████████████████████████████| 60.5 MB 53 kB/s \n",
            "\u001b[?25hRequirement already satisfied: numpy>=1.14.5 in /usr/local/lib/python3.7/site-packages (from opencv-python) (1.20.3)\n",
            "Installing collected packages: opencv-python\n",
            "Successfully installed opencv-python-4.5.5.64\n"
          ]
        }
      ]
    },
    {
      "cell_type": "code",
      "source": [
        "!python '/content/drive/MyDrive/Detectron2/detectron2/tests/test_windows_install.py'"
      ],
      "metadata": {
        "colab": {
          "base_uri": "https://localhost:8080/"
        },
        "id": "8CWW1b61C8sF",
        "outputId": "70f7fd32-806d-4033-9765-cdf69a93eac8"
      },
      "execution_count": 6,
      "outputs": [
        {
          "output_type": "stream",
          "name": "stdout",
          "text": [
            "/content/drive/MyDrive/Detectron2/detectron2/detectron2/layers/wrappers.py:240: UserWarning: This overload of nonzero is deprecated:\n",
            "\tnonzero()\n",
            "Consider using one of the following signatures instead:\n",
            "\tnonzero(*, bool as_tuple) (Triggered internally at  /opt/conda/conda-bld/pytorch_1603729006826/work/torch/csrc/utils/python_arg_parser.cpp:882.)\n",
            "  return x.nonzero().unbind(1)\n",
            "{'instances': Instances(num_instances=10, image_height=696, image_width=800, fields=[pred_boxes: Boxes(tensor([[381.5301,  37.9873, 660.5099, 633.0025],\n",
            "        [609.0862,  52.3061, 778.6715, 608.7545],\n",
            "        [ 76.1546, 342.9806, 350.8254, 637.9863],\n",
            "        [116.5007,  50.8391, 225.4073, 244.8143],\n",
            "        [212.0942,  12.9442, 342.5333, 248.1474],\n",
            "        [339.8039,  41.2512, 438.5270, 242.1404],\n",
            "        [682.8400,   1.2311, 785.6708, 182.6451],\n",
            "        [ 70.0013,  67.1564, 141.3879, 201.0686],\n",
            "        [  1.1378,  59.1209,  48.8566, 245.9818],\n",
            "        [479.2893, 135.2387, 502.9640, 239.9862]], device='cuda:0')), scores: tensor([0.9983, 0.9974, 0.9959, 0.9919, 0.9891, 0.9586, 0.9503, 0.9474, 0.8453,\n",
            "        0.8035], device='cuda:0'), pred_classes: tensor([ 0,  0, 16,  0,  0,  0,  0,  0,  0, 27], device='cuda:0')])}\n",
            "qt.qpa.xcb: could not connect to display \n",
            "qt.qpa.plugin: Could not load the Qt platform plugin \"xcb\" in \"/usr/local/lib/python3.7/site-packages/cv2/qt/plugins\" even though it was found.\n",
            "This application failed to start because no Qt platform plugin could be initialized. Reinstalling the application may fix this problem.\n",
            "\n",
            "Available platform plugins are: xcb.\n",
            "\n"
          ]
        }
      ]
    }
  ]
}